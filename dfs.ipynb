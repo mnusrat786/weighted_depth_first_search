#
{
  "nbformat": 4,
  "nbformat_minor": 0,
  "metadata": {
    "colab": {
      "name": "dfs.ipynb",
      "provenance": []
    },
    "kernelspec": {
      "name": "python3",
      "display_name": "Python 3"
    },
    "language_info": {
      "name": "python"
    }
  },
  "cells": [
    {
      "cell_type": "code",
      "metadata": {
        "colab": {
          "base_uri": "https://localhost:8080/"
        },
        "id": "SKe9inx2AB3B",
        "outputId": "2ab5d28d-c5fb-4639-f183-44f3b5fe7176"
      },
      "source": [
        "\n",
        "\n",
        "dict = {\n",
        "  'S' : [['A',3],['B',6],['C',2]],\n",
        "  'C' : [['S',2],['E',1]],\n",
        "  'A' : [['D',3], ['S',3]],\n",
        "  'B' : [['D',4],['G',9],['E',2],['S',6]],\n",
        "  'D' : [['A',3],['B',4],['F',5]],\n",
        "  'E' : [['F',6],['H',5],['C',1],['B',2]],\n",
        "  'F' : [['G',5],['E',6],['D',5]],\n",
        "  'G' : [['F',5],['B',9],['H',8]],\n",
        "  'H' : [['E',5],['G',8]]\n",
        "}\n",
        "\n",
        "newww = {}\n",
        "\n",
        "# aaaa = {\n",
        "#   'S' : ['A','B','C'],\n",
        "#   'C' : ['S','E'],\n",
        "#   'A' : ['D','S'],\n",
        "#   'B' : ['D','G','E','S'],\n",
        "#   'D' : ['A','B','F'],\n",
        "#   'E' : ['F','H','C','B'],\n",
        "#   'F' : ['G','E','D'],\n",
        "#   'G' : ['F','B','H'],\n",
        "#   'H' : ['E','G']\n",
        "# }\n",
        "\n",
        "\n",
        "\n",
        "def Sort_List_Of_List(put_Val):\n",
        "    lengthOfBasic = len(put_Val)\n",
        "    for iterrr in range(0, lengthOfBasic):\n",
        "        for iterrr2 in range(0, lengthOfBasic-iterrr-1):\n",
        "            if (put_Val[iterrr2][1] > put_Val[iterrr2 + 1][1]):\n",
        "                temporaryyyy = put_Val[iterrr2]\n",
        "                put_Val[iterrr2]= put_Val[iterrr2 + 1]\n",
        "                put_Val[iterrr2 + 1]= temporaryyyy\n",
        "    return put_Val\n",
        "\n",
        "\n",
        "def Ascending_Order(dict):\n",
        "  lenBasic = len(dict)\n",
        "  for i in range(lenBasic):\n",
        "    A = list(dict.keys())[i]\n",
        "    # print(A)\n",
        "    B = Sort_List_Of_List(list(dict.values())[i])\n",
        "    # print(B)\n",
        "    # print(list(dict.keys())[0])\n",
        "    abc = []\n",
        "    lenB = len(B)\n",
        "    for ndd in range(lenB):\n",
        "      abc.append(B[ndd][0])\n",
        "    newww[A] = abc\n",
        "    # print(newww)\n",
        "    # lennn = len(dict)\n",
        "    # print(lennn)\n",
        "  return newww\n",
        "\n",
        "\n",
        "\n",
        "temp_list = set() \n",
        "final_list = []\n",
        "\n",
        "\n",
        "\n",
        "def dfs(temp_list, valll, itemmms):  \n",
        "\n",
        "    # print(temp_list)\n",
        "    \n",
        "    if (itemmms not in temp_list):\n",
        "        final_list.append(itemmms)\n",
        "        temp_list.add(itemmms)\n",
        "\n",
        "        for nnnn in valll[itemmms]:\n",
        "            dfs(temp_list, valll, nnnn)\n",
        "            #print(nnnn)\n",
        "\n",
        "\n",
        "newwwww = Ascending_Order(dict)\n",
        "#print(newwwww)\n",
        "dfs(temp_list, newwwww, 'S')\n",
        "# print(final_list)\n",
        "\n",
        "\n",
        "print(\"Following is the Depth-First Search\")\n",
        "print(final_list)\n",
        "\n"
      ],
      "execution_count": 1,
      "outputs": [
        {
          "output_type": "stream",
          "name": "stdout",
          "text": [
            "Following is the Depth-First Search\n",
            "['S', 'C', 'E', 'B', 'D', 'A', 'F', 'G', 'H']\n"
          ]
        }
      ]
    }
  ]
}
